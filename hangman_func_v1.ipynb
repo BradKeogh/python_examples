{
 "cells": [
  {
   "cell_type": "code",
   "execution_count": 1,
   "metadata": {
    "collapsed": true
   },
   "outputs": [],
   "source": [
    "words_list = ['hello','night','dream','test']"
   ]
  },
  {
   "cell_type": "code",
   "execution_count": 2,
   "metadata": {
    "collapsed": true
   },
   "outputs": [],
   "source": [
    "def pickword(words_list):\n",
    "    x = np.random.randint(0,len(words_list))\n",
    "    return(words_list[x])\n",
    "    "
   ]
  },
  {
   "cell_type": "code",
   "execution_count": 3,
   "metadata": {
    "collapsed": true
   },
   "outputs": [],
   "source": [
    "def setup_game_lists(game_word):\n",
    "    game_info = dict()\n",
    "    game_info['correct_letters'] = set(game_word)\n",
    "    game_info['incorrect_guesses'] = set()\n",
    "    game_info['correct_guesses'] = set()\n",
    "    game_info['incorrect_guesses_no'] = 0 #set counter for wrong answers\n",
    "    game_info['game_word'] = game_word\n",
    "    game_info['won'] = False\n",
    "    \n",
    "    return(game_info)"
   ]
  },
  {
   "cell_type": "code",
   "execution_count": 4,
   "metadata": {
    "collapsed": false
   },
   "outputs": [
    {
     "data": {
      "text/plain": [
       "{'correct_guesses': set(),\n",
       " 'correct_letters': {'e', 's', 't'},\n",
       " 'game_word': 'test',\n",
       " 'incorrect_guesses': set(),\n",
       " 'incorrect_guesses_no': 0,\n",
       " 'won': False}"
      ]
     },
     "execution_count": 4,
     "metadata": {},
     "output_type": "execute_result"
    }
   ],
   "source": [
    "setup_game_lists('test')"
   ]
  },
  {
   "cell_type": "code",
   "execution_count": 5,
   "metadata": {
    "collapsed": true
   },
   "outputs": [],
   "source": [
    "def wrong_guess(game_info,guess):\n",
    "    game_info['incorrect_guesses'].add(guess) # increment incorrect guesses letters\n",
    "    game_info['incorrect_guesses_no'] += 1 # increment incorrect guesses number\n",
    "    \n",
    "    return(game_info)"
   ]
  },
  {
   "cell_type": "code",
   "execution_count": 6,
   "metadata": {
    "collapsed": true
   },
   "outputs": [],
   "source": [
    "def correct_guess(game_info,guess):\n",
    "    print('Correct guess!')\n",
    "    game_info['correct_guesses'].add(guess)\n",
    "    game_info['won'] = (game_info['correct_guesses'] == game_info['correct_letters'])\n",
    "    return()"
   ]
  },
  {
   "cell_type": "code",
   "execution_count": 23,
   "metadata": {
    "collapsed": true
   },
   "outputs": [],
   "source": [
    "def print_status(game_info):\n",
    "    print('-' * 40)\n",
    "    print('Guesses remaining: ', 9 - game_info['incorrect_guesses_no'], '')\n",
    "    test = ''\n",
    "    for j in game_info['incorrect_guesses']:\n",
    "        test += j + ', '\n",
    "    print('Incorrect guesses: ', test)\n",
    "    word = ' '\n",
    "    for i in game_info['game_word']:\n",
    "        if i in game_info['correct_guesses']:\n",
    "            word = word + i + ' '\n",
    "        else:\n",
    "            word = word + '_ '\n",
    "    print(word)\n",
    "    return"
   ]
  },
  {
   "cell_type": "code",
   "execution_count": null,
   "metadata": {
    "collapsed": false
   },
   "outputs": [],
   "source": []
  },
  {
   "cell_type": "code",
   "execution_count": 24,
   "metadata": {
    "collapsed": false
   },
   "outputs": [
    {
     "name": "stdout",
     "output_type": "stream",
     "text": [
      "Enter a guess here: a\n",
      "----------------------------------------\n",
      "Guesses remaining:  8 \n",
      "Incorrect guesses:  a, \n",
      " _ _ _ _ _ \n",
      "Enter a guess here: a\n",
      "----------------------------------------\n",
      "Guesses remaining:  7 \n",
      "Incorrect guesses:  a, \n",
      " _ _ _ _ _ \n",
      "Enter a guess here: a\n",
      "----------------------------------------\n",
      "Guesses remaining:  6 \n",
      "Incorrect guesses:  a, \n",
      " _ _ _ _ _ \n",
      "Enter a guess here: a\n",
      "----------------------------------------\n",
      "Guesses remaining:  5 \n",
      "Incorrect guesses:  a, \n",
      " _ _ _ _ _ \n",
      "Enter a guess here: a\n",
      "----------------------------------------\n",
      "Guesses remaining:  4 \n",
      "Incorrect guesses:  a, \n",
      " _ _ _ _ _ \n",
      "Enter a guess here: a\n",
      "----------------------------------------\n",
      "Guesses remaining:  3 \n",
      "Incorrect guesses:  a, \n",
      " _ _ _ _ _ \n",
      "Enter a guess here: a\n",
      "----------------------------------------\n",
      "Guesses remaining:  2 \n",
      "Incorrect guesses:  a, \n",
      " _ _ _ _ _ \n",
      "Enter a guess here: a\n",
      "----------------------------------------\n",
      "Guesses remaining:  1 \n",
      "Incorrect guesses:  a, \n",
      " _ _ _ _ _ \n",
      "Enter a guess here: a\n",
      "----------------------------------------\n",
      "Guesses remaining:  0 \n",
      "Incorrect guesses:  a, \n",
      " _ _ _ _ _ \n",
      "----------------------------------------\n",
      "----------------------------------------\n",
      ":-(\n",
      "----------------------------------------\n",
      "----------------------------------------\n"
     ]
    }
   ],
   "source": [
    "import numpy as np\n",
    "game_word = pickword(words_list) ##get a word\n",
    "game_info = setup_game_lists(game_word) # make game variables\n",
    "\n",
    "\n",
    "while (game_info['incorrect_guesses_no'] < 9 and game_info['won'] == False):\n",
    "    guess = input('Enter a guess here: ')\n",
    "    if guess in game_info['correct_letters']:\n",
    "        correct_guess(game_info,guess)\n",
    "        print_status(game_info)\n",
    "    else:\n",
    "        wrong_guess(game_info,guess)\n",
    "        print_status(game_info)\n",
    "\n",
    "print('-' * 40)\n",
    "print('-' * 40)\n",
    "\n",
    "if game_info['incorrect_guesses_no'] < 9:\n",
    "    print('Well done, you have won!')\n",
    "else:\n",
    "    print(':-(')\n",
    "        \n",
    "print('-' * 40)\n",
    "print('-' * 40)"
   ]
  },
  {
   "cell_type": "code",
   "execution_count": null,
   "metadata": {
    "collapsed": true
   },
   "outputs": [],
   "source": []
  },
  {
   "cell_type": "code",
   "execution_count": null,
   "metadata": {
    "collapsed": true
   },
   "outputs": [],
   "source": []
  }
 ],
 "metadata": {
  "kernelspec": {
   "display_name": "Python [conda env:ml]",
   "language": "python",
   "name": "conda-env-ml-py"
  },
  "language_info": {
   "codemirror_mode": {
    "name": "ipython",
    "version": 3
   },
   "file_extension": ".py",
   "mimetype": "text/x-python",
   "name": "python",
   "nbconvert_exporter": "python",
   "pygments_lexer": "ipython3",
   "version": "3.6.3"
  }
 },
 "nbformat": 4,
 "nbformat_minor": 2
}
