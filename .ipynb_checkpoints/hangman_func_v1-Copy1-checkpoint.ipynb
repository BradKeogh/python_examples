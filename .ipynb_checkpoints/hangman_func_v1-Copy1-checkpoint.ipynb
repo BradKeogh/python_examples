{
 "cells": [
  {
   "cell_type": "code",
   "execution_count": 4,
   "metadata": {
    "collapsed": false
   },
   "outputs": [
    {
     "name": "stdout",
     "output_type": "stream",
     "text": [
      "Overwriting hangman.py\n"
     ]
    }
   ],
   "source": [
    "%%writefile hangman.py\n",
    "\n",
    "words_list = ['hello','night','dream','test']\n",
    "\n",
    "print('-'*40)\n",
    "print('-'*40)\n",
    "print(\"WELCOME TO HANGMAN....let's play!\")\n",
    "print('-'*40)\n",
    "print('-'*40)\n",
    "      \n",
    "def pickword(words_list):\n",
    "    x = np.random.randint(0,len(words_list))\n",
    "    return(words_list[x])\n",
    "    \n",
    "\n",
    "def setup_game_lists(game_word):\n",
    "    game_info = dict()\n",
    "    game_info['correct_letters'] = set(game_word)\n",
    "    game_info['incorrect_guesses'] = set()\n",
    "    game_info['correct_guesses'] = set()\n",
    "    game_info['incorrect_guesses_no'] = 0 #set counter for wrong answers\n",
    "    game_info['game_word'] = game_word\n",
    "    game_info['won'] = False\n",
    "    \n",
    "    return(game_info)\n",
    "\n",
    "setup_game_lists('test')\n",
    "\n",
    "def wrong_guess(game_info,guess):\n",
    "    game_info['incorrect_guesses'].add(guess) # increment incorrect guesses letters\n",
    "    game_info['incorrect_guesses_no'] += 1 # increment incorrect guesses number\n",
    "    \n",
    "    return(game_info)\n",
    "\n",
    "def correct_guess(game_info,guess):\n",
    "    print('Correct guess!')\n",
    "    game_info['correct_guesses'].add(guess)\n",
    "    game_info['won'] = (game_info['correct_guesses'] == game_info['correct_letters'])\n",
    "    return()\n",
    "\n",
    "def print_status(game_info):\n",
    "    print('-' * 40)\n",
    "    print('Guesses remaining: ', 9 - game_info['incorrect_guesses_no'], '')\n",
    "    test = ''\n",
    "    for j in game_info['incorrect_guesses']:\n",
    "        test += j + ', '\n",
    "    print('Incorrect guesses: ', test)\n",
    "    word = ' '\n",
    "    for i in game_info['game_word']:\n",
    "        if i in game_info['correct_guesses']:\n",
    "            word = word + i + ' '\n",
    "        else:\n",
    "            word = word + '_ '\n",
    "    print(word)\n",
    "    return\n",
    "\n",
    "\n",
    "\n",
    "import numpy as np\n",
    "game_word = pickword(words_list) ##get a word\n",
    "game_info = setup_game_lists(game_word) # make game variables\n",
    "print_status(game_info)\n",
    "\n",
    "while (game_info['incorrect_guesses_no'] < 9 and game_info['won'] == False):\n",
    "    guess = input('Enter a guess here: ')\n",
    "    if guess in game_info['correct_letters']:\n",
    "        correct_guess(game_info,guess)\n",
    "        print_status(game_info)\n",
    "    else:\n",
    "        wrong_guess(game_info,guess)\n",
    "        print_status(game_info)\n",
    "\n",
    "print('-' * 40)\n",
    "print('-' * 40)\n",
    "\n",
    "if game_info['incorrect_guesses_no'] < 9:\n",
    "    print('Well done, you have won!')\n",
    "else:\n",
    "    print(':-(')\n",
    "        \n",
    "print('-' * 40)\n",
    "print('-' * 40)\n",
    "\n",
    "\n",
    "\n"
   ]
  },
  {
   "cell_type": "code",
   "execution_count": null,
   "metadata": {
    "collapsed": true
   },
   "outputs": [],
   "source": []
  }
 ],
 "metadata": {
  "kernelspec": {
   "display_name": "Python [conda env:ml]",
   "language": "python",
   "name": "conda-env-ml-py"
  },
  "language_info": {
   "codemirror_mode": {
    "name": "ipython",
    "version": 3
   },
   "file_extension": ".py",
   "mimetype": "text/x-python",
   "name": "python",
   "nbconvert_exporter": "python",
   "pygments_lexer": "ipython3",
   "version": "3.6.3"
  }
 },
 "nbformat": 4,
 "nbformat_minor": 2
}
