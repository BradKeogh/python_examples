{
 "cells": [
  {
   "cell_type": "code",
   "execution_count": 1,
   "metadata": {},
   "outputs": [],
   "source": [
    "from sklearn.datasets import load_iris\n",
    "from sklearn.linear_model import Perceptron\n",
    "import numpy as np"
   ]
  },
  {
   "cell_type": "markdown",
   "metadata": {},
   "source": [
    "# Perceptron "
   ]
  },
  {
   "cell_type": "code",
   "execution_count": 88,
   "metadata": {},
   "outputs": [],
   "source": [
    "iris = load_iris()\n",
    "X = iris.data[:,(2,3)] # petal length, petal width\n",
    "y = (iris.target == 0).astype(np.int) # Iris Setosa"
   ]
  },
  {
   "cell_type": "code",
   "execution_count": 89,
   "metadata": {},
   "outputs": [
    {
     "name": "stderr",
     "output_type": "stream",
     "text": [
      "C:\\Anaconda3\\envs\\ml\\lib\\site-packages\\sklearn\\linear_model\\stochastic_gradient.py:128: FutureWarning: max_iter and tol parameters have been added in <class 'sklearn.linear_model.perceptron.Perceptron'> in 0.19. If both are left unset, they default to max_iter=5 and tol=None. If tol is not None, max_iter defaults to max_iter=1000. From 0.21, default max_iter will be 1000, and default tol will be 1e-3.\n",
      "  \"and default tol will be 1e-3.\" % type(self), FutureWarning)\n"
     ]
    },
    {
     "data": {
      "text/plain": [
       "Perceptron(alpha=0.0001, class_weight=None, eta0=1.0, fit_intercept=True,\n",
       "      max_iter=None, n_iter=None, n_jobs=1, penalty=None, random_state=42,\n",
       "      shuffle=True, tol=None, verbose=0, warm_start=False)"
      ]
     },
     "execution_count": 89,
     "metadata": {},
     "output_type": "execute_result"
    }
   ],
   "source": [
    "per_clf = Perceptron(random_state=42)\n",
    "per_clf.fit(X,y)"
   ]
  },
  {
   "cell_type": "code",
   "execution_count": 90,
   "metadata": {},
   "outputs": [],
   "source": [
    "y_pred = per_clf.predict([[2,0.5]])"
   ]
  },
  {
   "cell_type": "code",
   "execution_count": 91,
   "metadata": {},
   "outputs": [
    {
     "data": {
      "text/plain": [
       "array([1])"
      ]
     },
     "execution_count": 91,
     "metadata": {},
     "output_type": "execute_result"
    }
   ],
   "source": [
    "y_pred"
   ]
  },
  {
   "cell_type": "code",
   "execution_count": null,
   "metadata": {},
   "outputs": [],
   "source": []
  },
  {
   "cell_type": "markdown",
   "metadata": {},
   "source": [
    "# Multi-layer Perceptron using Tensorflow "
   ]
  },
  {
   "cell_type": "markdown",
   "metadata": {},
   "source": [
    "from sklearn.datasets import fetch_mldata"
   ]
  },
  {
   "cell_type": "markdown",
   "metadata": {},
   "source": [
    "mnist = fetch_mldata('mnist-original',data_home='./')"
   ]
  },
  {
   "cell_type": "markdown",
   "metadata": {},
   "source": [
    "mnist"
   ]
  },
  {
   "cell_type": "markdown",
   "metadata": {},
   "source": [
    "X, y = mnist[\"data\"],mnist[\"target\"]"
   ]
  },
  {
   "cell_type": "markdown",
   "metadata": {},
   "source": [
    "X.shape"
   ]
  },
  {
   "cell_type": "markdown",
   "metadata": {},
   "source": [
    "y.shape"
   ]
  },
  {
   "cell_type": "code",
   "execution_count": null,
   "metadata": {},
   "outputs": [],
   "source": []
  },
  {
   "cell_type": "code",
   "execution_count": null,
   "metadata": {},
   "outputs": [],
   "source": []
  },
  {
   "cell_type": "code",
   "execution_count": 92,
   "metadata": {},
   "outputs": [],
   "source": [
    "from sklearn.model_selection import train_test_split "
   ]
  },
  {
   "cell_type": "code",
   "execution_count": 100,
   "metadata": {},
   "outputs": [],
   "source": [
    "X_train, X_test, y_train, y_test = train_test_split(X,y)"
   ]
  },
  {
   "cell_type": "code",
   "execution_count": null,
   "metadata": {},
   "outputs": [],
   "source": []
  },
  {
   "cell_type": "code",
   "execution_count": 101,
   "metadata": {},
   "outputs": [],
   "source": [
    "from sklearn.preprocessing import StandardScaler"
   ]
  },
  {
   "cell_type": "code",
   "execution_count": null,
   "metadata": {},
   "outputs": [],
   "source": []
  },
  {
   "cell_type": "code",
   "execution_count": null,
   "metadata": {},
   "outputs": [],
   "source": []
  },
  {
   "cell_type": "code",
   "execution_count": 102,
   "metadata": {},
   "outputs": [],
   "source": [
    "import tensorflow as tf"
   ]
  },
  {
   "cell_type": "code",
   "execution_count": 103,
   "metadata": {},
   "outputs": [
    {
     "name": "stdout",
     "output_type": "stream",
     "text": [
      "WARNING:tensorflow:float64 is not supported by many models, consider casting to float32.\n",
      "INFO:tensorflow:Using default config.\n",
      "WARNING:tensorflow:Using temporary folder as model directory: C:\\Users\\bjk1y13\\AppData\\Local\\Temp\\tmp55ygqids\n",
      "INFO:tensorflow:Using config: {'_task_type': None, '_task_id': 0, '_cluster_spec': <tensorflow.python.training.server_lib.ClusterSpec object at 0x0000025D1F3324A8>, '_master': '', '_num_ps_replicas': 0, '_num_worker_replicas': 0, '_environment': 'local', '_is_chief': True, '_evaluation_master': '', '_tf_config': gpu_options {\n",
      "  per_process_gpu_memory_fraction: 1\n",
      "}\n",
      ", '_tf_random_seed': None, '_save_summary_steps': 100, '_save_checkpoints_secs': 600, '_log_step_count_steps': 100, '_session_config': None, '_save_checkpoints_steps': None, '_keep_checkpoint_max': 5, '_keep_checkpoint_every_n_hours': 10000, '_model_dir': 'C:\\\\Users\\\\bjk1y13\\\\AppData\\\\Local\\\\Temp\\\\tmp55ygqids'}\n",
      "WARNING:tensorflow:float64 is not supported by many models, consider casting to float32.\n",
      "INFO:tensorflow:Create CheckpointSaverHook.\n",
      "INFO:tensorflow:Saving checkpoints for 1 into C:\\Users\\bjk1y13\\AppData\\Local\\Temp\\tmp55ygqids\\model.ckpt.\n",
      "INFO:tensorflow:loss = 4.67161, step = 1\n",
      "INFO:tensorflow:global_step/sec: 1215.45\n",
      "INFO:tensorflow:loss = 0.162459, step = 101 (0.094 sec)\n",
      "INFO:tensorflow:global_step/sec: 1195.54\n",
      "INFO:tensorflow:loss = 0.0713626, step = 201 (0.072 sec)\n",
      "INFO:tensorflow:global_step/sec: 1181.94\n",
      "INFO:tensorflow:loss = 0.0237593, step = 301 (0.101 sec)\n",
      "INFO:tensorflow:global_step/sec: 1196.47\n",
      "INFO:tensorflow:loss = 0.0157936, step = 401 (0.084 sec)\n",
      "INFO:tensorflow:global_step/sec: 1016.65\n",
      "INFO:tensorflow:loss = 0.00765709, step = 501 (0.085 sec)\n",
      "INFO:tensorflow:global_step/sec: 1199.86\n",
      "INFO:tensorflow:loss = 0.00672265, step = 601 (0.085 sec)\n",
      "INFO:tensorflow:global_step/sec: 1201.53\n",
      "INFO:tensorflow:loss = 0.00452353, step = 701 (0.084 sec)\n",
      "INFO:tensorflow:global_step/sec: 1196.25\n",
      "INFO:tensorflow:loss = 0.0051205, step = 801 (0.084 sec)\n",
      "INFO:tensorflow:global_step/sec: 1209.18\n",
      "INFO:tensorflow:loss = 0.00365967, step = 901 (0.085 sec)\n",
      "INFO:tensorflow:Saving checkpoints for 1000 into C:\\Users\\bjk1y13\\AppData\\Local\\Temp\\tmp55ygqids\\model.ckpt.\n",
      "INFO:tensorflow:Loss for final step: 0.00378322.\n"
     ]
    },
    {
     "data": {
      "text/plain": [
       "DNNClassifier(params={'head': <tensorflow.contrib.learn.python.learn.estimators.head._MultiClassHead object at 0x0000025D1F284198>, 'hidden_units': [10, 10], 'feature_columns': (_RealValuedColumn(column_name='', dimension=2, default_value=None, dtype=tf.float64, normalizer=None),), 'optimizer': None, 'activation_fn': <function relu at 0x0000025D19C1C378>, 'dropout': None, 'gradient_clip_norm': None, 'embedding_lr_multipliers': None, 'input_layer_min_slice_size': None})"
      ]
     },
     "execution_count": 103,
     "metadata": {},
     "output_type": "execute_result"
    }
   ],
   "source": [
    "feature_columns = tf.contrib.learn.infer_real_valued_columns_from_input(X_train)\n",
    "dnn_clf = tf.contrib.learn.DNNClassifier(hidden_units=[10,10],n_classes=10,\n",
    "                                       feature_columns=feature_columns)\n",
    "dnn_clf.fit(x=X_train,y=y_train,batch_size=50,steps=1000)"
   ]
  },
  {
   "cell_type": "code",
   "execution_count": null,
   "metadata": {},
   "outputs": [],
   "source": []
  },
  {
   "cell_type": "code",
   "execution_count": 104,
   "metadata": {},
   "outputs": [],
   "source": [
    "from sklearn.metrics import accuracy_score"
   ]
  },
  {
   "cell_type": "code",
   "execution_count": 105,
   "metadata": {},
   "outputs": [
    {
     "name": "stdout",
     "output_type": "stream",
     "text": [
      "WARNING:tensorflow:float64 is not supported by many models, consider casting to float32.\n",
      "INFO:tensorflow:Restoring parameters from C:\\Users\\bjk1y13\\AppData\\Local\\Temp\\tmp55ygqids\\model.ckpt-1000\n"
     ]
    },
    {
     "data": {
      "text/plain": [
       "1.0"
      ]
     },
     "execution_count": 105,
     "metadata": {},
     "output_type": "execute_result"
    }
   ],
   "source": [
    "y_pred = list(dnn_clf.predict(X_test))\n",
    "accuracy_score(y_test,y_pred)"
   ]
  },
  {
   "cell_type": "markdown",
   "metadata": {},
   "source": [
    "TF.learn library also provides convenince functions to evaulate models:"
   ]
  },
  {
   "cell_type": "code",
   "execution_count": 106,
   "metadata": {},
   "outputs": [
    {
     "name": "stdout",
     "output_type": "stream",
     "text": [
      "WARNING:tensorflow:float64 is not supported by many models, consider casting to float32.\n",
      "INFO:tensorflow:Starting evaluation at 2017-12-07-15:45:42\n",
      "INFO:tensorflow:Restoring parameters from C:\\Users\\bjk1y13\\AppData\\Local\\Temp\\tmp55ygqids\\model.ckpt-1000\n",
      "INFO:tensorflow:Finished evaluation at 2017-12-07-15:45:42\n",
      "INFO:tensorflow:Saving dict for global step 1000: accuracy = 1.0, global_step = 1000, loss = 0.00315766\n"
     ]
    },
    {
     "data": {
      "text/plain": [
       "{'accuracy': 1.0, 'global_step': 1000, 'loss': 0.0031576608}"
      ]
     },
     "execution_count": 106,
     "metadata": {},
     "output_type": "execute_result"
    }
   ],
   "source": [
    "dnn_clf.evaluate(X_test,y_test)"
   ]
  },
  {
   "cell_type": "code",
   "execution_count": null,
   "metadata": {},
   "outputs": [],
   "source": []
  },
  {
   "cell_type": "code",
   "execution_count": null,
   "metadata": {},
   "outputs": [],
   "source": []
  },
  {
   "cell_type": "code",
   "execution_count": 35,
   "metadata": {},
   "outputs": [],
   "source": [
    "from sklearn.datasets import load_diabetes"
   ]
  },
  {
   "cell_type": "code",
   "execution_count": 57,
   "metadata": {},
   "outputs": [],
   "source": [
    "y = load_diabetes().target"
   ]
  },
  {
   "cell_type": "code",
   "execution_count": 58,
   "metadata": {},
   "outputs": [],
   "source": [
    "X = load_diabetes().data"
   ]
  },
  {
   "cell_type": "code",
   "execution_count": null,
   "metadata": {},
   "outputs": [],
   "source": []
  },
  {
   "cell_type": "code",
   "execution_count": 59,
   "metadata": {},
   "outputs": [],
   "source": [
    "from sklearn.model_selection import train_test_split "
   ]
  },
  {
   "cell_type": "code",
   "execution_count": 60,
   "metadata": {},
   "outputs": [],
   "source": [
    "X_train, X_test, y_train, y_test = train_test_split(X,y)"
   ]
  },
  {
   "cell_type": "code",
   "execution_count": null,
   "metadata": {},
   "outputs": [],
   "source": []
  },
  {
   "cell_type": "code",
   "execution_count": null,
   "metadata": {},
   "outputs": [],
   "source": [
    "from sklearn.preprocessing import StandardScaler"
   ]
  },
  {
   "cell_type": "code",
   "execution_count": null,
   "metadata": {},
   "outputs": [],
   "source": []
  },
  {
   "cell_type": "code",
   "execution_count": null,
   "metadata": {},
   "outputs": [],
   "source": []
  },
  {
   "cell_type": "code",
   "execution_count": 61,
   "metadata": {},
   "outputs": [],
   "source": [
    "import tensorflow as tf"
   ]
  },
  {
   "cell_type": "code",
   "execution_count": 65,
   "metadata": {},
   "outputs": [
    {
     "name": "stdout",
     "output_type": "stream",
     "text": [
      "WARNING:tensorflow:float64 is not supported by many models, consider casting to float32.\n",
      "INFO:tensorflow:Using default config.\n",
      "WARNING:tensorflow:Using temporary folder as model directory: C:\\Users\\bjk1y13\\AppData\\Local\\Temp\\tmp2aga_fcv\n",
      "INFO:tensorflow:Using config: {'_task_type': None, '_task_id': 0, '_cluster_spec': <tensorflow.python.training.server_lib.ClusterSpec object at 0x0000025D1EA213C8>, '_master': '', '_num_ps_replicas': 0, '_num_worker_replicas': 0, '_environment': 'local', '_is_chief': True, '_evaluation_master': '', '_tf_config': gpu_options {\n",
      "  per_process_gpu_memory_fraction: 1\n",
      "}\n",
      ", '_tf_random_seed': None, '_save_summary_steps': 100, '_save_checkpoints_secs': 600, '_log_step_count_steps': 100, '_session_config': None, '_save_checkpoints_steps': None, '_keep_checkpoint_max': 5, '_keep_checkpoint_every_n_hours': 10000, '_model_dir': 'C:\\\\Users\\\\bjk1y13\\\\AppData\\\\Local\\\\Temp\\\\tmp2aga_fcv'}\n",
      "WARNING:tensorflow:float64 is not supported by many models, consider casting to float32.\n",
      "WARNING:tensorflow:float64 is not supported by many models, consider casting to float32.\n",
      "INFO:tensorflow:Create CheckpointSaverHook.\n",
      "INFO:tensorflow:Saving checkpoints for 1 into C:\\Users\\bjk1y13\\AppData\\Local\\Temp\\tmp2aga_fcv\\model.ckpt.\n",
      "INFO:tensorflow:loss = 35298.9, step = 1\n",
      "INFO:tensorflow:global_step/sec: 612.355\n",
      "INFO:tensorflow:loss = 8185.59, step = 101 (0.170 sec)\n",
      "INFO:tensorflow:global_step/sec: 638.569\n",
      "INFO:tensorflow:loss = 3778.5, step = 201 (0.155 sec)\n",
      "INFO:tensorflow:global_step/sec: 613.827\n",
      "INFO:tensorflow:loss = 3242.21, step = 301 (0.168 sec)\n",
      "INFO:tensorflow:global_step/sec: 583.178\n",
      "INFO:tensorflow:loss = 3299.98, step = 401 (0.157 sec)\n",
      "INFO:tensorflow:global_step/sec: 571.109\n",
      "INFO:tensorflow:loss = 2916.11, step = 501 (0.180 sec)\n",
      "INFO:tensorflow:global_step/sec: 658.7\n",
      "INFO:tensorflow:loss = 4404.92, step = 601 (0.161 sec)\n",
      "INFO:tensorflow:global_step/sec: 592.935\n",
      "INFO:tensorflow:loss = 3179.14, step = 701 (0.171 sec)\n",
      "INFO:tensorflow:global_step/sec: 579.591\n",
      "INFO:tensorflow:loss = 2982.09, step = 801 (0.163 sec)\n",
      "INFO:tensorflow:global_step/sec: 614.315\n",
      "INFO:tensorflow:loss = 2846.13, step = 901 (0.173 sec)\n",
      "INFO:tensorflow:global_step/sec: 609.428\n",
      "INFO:tensorflow:loss = 1999.7, step = 1001 (0.154 sec)\n",
      "INFO:tensorflow:global_step/sec: 623.547\n",
      "INFO:tensorflow:loss = 3157.62, step = 1101 (0.165 sec)\n",
      "INFO:tensorflow:global_step/sec: 558.319\n",
      "INFO:tensorflow:loss = 3893.72, step = 1201 (0.173 sec)\n",
      "INFO:tensorflow:global_step/sec: 611.192\n",
      "INFO:tensorflow:loss = 2405.24, step = 1301 (0.163 sec)\n",
      "INFO:tensorflow:global_step/sec: 663.039\n",
      "INFO:tensorflow:loss = 2408.23, step = 1401 (0.152 sec)\n",
      "INFO:tensorflow:global_step/sec: 679.937\n",
      "INFO:tensorflow:loss = 2700.22, step = 1501 (0.160 sec)\n",
      "INFO:tensorflow:global_step/sec: 548.645\n",
      "INFO:tensorflow:loss = 2957.87, step = 1601 (0.172 sec)\n",
      "INFO:tensorflow:global_step/sec: 577.176\n",
      "INFO:tensorflow:loss = 3516.91, step = 1701 (0.170 sec)\n",
      "INFO:tensorflow:global_step/sec: 691.787\n",
      "INFO:tensorflow:loss = 3408.07, step = 1801 (0.154 sec)\n",
      "INFO:tensorflow:global_step/sec: 590.388\n",
      "INFO:tensorflow:loss = 2559.51, step = 1901 (0.173 sec)\n",
      "INFO:tensorflow:global_step/sec: 557.71\n",
      "INFO:tensorflow:loss = 3024.19, step = 2001 (0.172 sec)\n",
      "INFO:tensorflow:global_step/sec: 583.138\n",
      "INFO:tensorflow:loss = 2992.78, step = 2101 (0.165 sec)\n",
      "INFO:tensorflow:global_step/sec: 616.019\n",
      "INFO:tensorflow:loss = 2488.2, step = 2201 (0.168 sec)\n",
      "INFO:tensorflow:global_step/sec: 582.869\n",
      "INFO:tensorflow:loss = 3146.73, step = 2301 (0.170 sec)\n",
      "INFO:tensorflow:global_step/sec: 668.398\n",
      "INFO:tensorflow:loss = 3403.54, step = 2401 (0.148 sec)\n",
      "INFO:tensorflow:global_step/sec: 722.356\n",
      "INFO:tensorflow:loss = 2942.04, step = 2501 (0.142 sec)\n",
      "INFO:tensorflow:global_step/sec: 575.838\n",
      "INFO:tensorflow:loss = 2709.11, step = 2601 (0.172 sec)\n",
      "INFO:tensorflow:global_step/sec: 618.66\n",
      "INFO:tensorflow:loss = 3563.35, step = 2701 (0.164 sec)\n",
      "INFO:tensorflow:global_step/sec: 689.491\n",
      "INFO:tensorflow:loss = 2943.64, step = 2801 (0.153 sec)\n",
      "INFO:tensorflow:global_step/sec: 571.384\n",
      "INFO:tensorflow:loss = 2870.92, step = 2901 (0.172 sec)\n",
      "INFO:tensorflow:global_step/sec: 701.553\n",
      "INFO:tensorflow:loss = 2546.98, step = 3001 (0.144 sec)\n",
      "INFO:tensorflow:global_step/sec: 539.732\n",
      "INFO:tensorflow:loss = 3161.01, step = 3101 (0.178 sec)\n",
      "INFO:tensorflow:global_step/sec: 582.622\n",
      "INFO:tensorflow:loss = 2660.1, step = 3201 (0.176 sec)\n",
      "INFO:tensorflow:global_step/sec: 615.5\n",
      "INFO:tensorflow:loss = 2470.21, step = 3301 (0.168 sec)\n",
      "INFO:tensorflow:global_step/sec: 537.607\n",
      "INFO:tensorflow:loss = 3547.78, step = 3401 (0.173 sec)\n",
      "INFO:tensorflow:global_step/sec: 664.097\n",
      "INFO:tensorflow:loss = 3008.82, step = 3501 (0.164 sec)\n",
      "INFO:tensorflow:global_step/sec: 616.79\n",
      "INFO:tensorflow:loss = 2279.6, step = 3601 (0.148 sec)\n",
      "INFO:tensorflow:global_step/sec: 652.273\n",
      "INFO:tensorflow:loss = 3040.13, step = 3701 (0.163 sec)\n",
      "INFO:tensorflow:global_step/sec: 540.967\n",
      "INFO:tensorflow:loss = 3279.13, step = 3801 (0.170 sec)\n",
      "INFO:tensorflow:global_step/sec: 595.07\n",
      "INFO:tensorflow:loss = 3813.34, step = 3901 (0.175 sec)\n",
      "INFO:tensorflow:global_step/sec: 561.221\n",
      "INFO:tensorflow:loss = 3195.42, step = 4001 (0.178 sec)\n",
      "INFO:tensorflow:global_step/sec: 658.998\n",
      "INFO:tensorflow:loss = 2663.55, step = 4101 (0.156 sec)\n",
      "INFO:tensorflow:global_step/sec: 678.22\n",
      "INFO:tensorflow:loss = 3280.6, step = 4201 (0.148 sec)\n",
      "INFO:tensorflow:global_step/sec: 597.686\n",
      "INFO:tensorflow:loss = 3223.04, step = 4301 (0.167 sec)\n",
      "INFO:tensorflow:global_step/sec: 609.336\n",
      "INFO:tensorflow:loss = 1926.15, step = 4401 (0.160 sec)\n",
      "INFO:tensorflow:global_step/sec: 594.545\n",
      "INFO:tensorflow:loss = 1952.38, step = 4501 (0.177 sec)\n",
      "INFO:tensorflow:global_step/sec: 628.509\n",
      "INFO:tensorflow:loss = 3248.5, step = 4601 (0.152 sec)\n",
      "INFO:tensorflow:global_step/sec: 665.595\n",
      "INFO:tensorflow:loss = 2971.92, step = 4701 (0.146 sec)\n",
      "INFO:tensorflow:global_step/sec: 695.261\n",
      "INFO:tensorflow:loss = 2483.39, step = 4801 (0.147 sec)\n",
      "INFO:tensorflow:global_step/sec: 594.471\n",
      "INFO:tensorflow:loss = 2952.41, step = 4901 (0.167 sec)\n",
      "INFO:tensorflow:Saving checkpoints for 5000 into C:\\Users\\bjk1y13\\AppData\\Local\\Temp\\tmp2aga_fcv\\model.ckpt.\n",
      "INFO:tensorflow:Loss for final step: 2178.51.\n"
     ]
    },
    {
     "data": {
      "text/plain": [
       "DNNRegressor(params={'head': <tensorflow.contrib.learn.python.learn.estimators.head._RegressionHead object at 0x0000025D1E154C50>, 'hidden_units': [10, 10], 'feature_columns': (_RealValuedColumn(column_name='', dimension=10, default_value=None, dtype=tf.float64, normalizer=None),), 'optimizer': None, 'activation_fn': <function relu at 0x0000025D19C1C378>, 'dropout': None, 'gradient_clip_norm': None, 'embedding_lr_multipliers': None, 'input_layer_min_slice_size': None})"
      ]
     },
     "execution_count": 65,
     "metadata": {},
     "output_type": "execute_result"
    }
   ],
   "source": [
    "feature_columns = tf.contrib.learn.infer_real_valued_columns_from_input(X_train)\n",
    "dnn_reg = tf.contrib.learn.DNNRegressor(hidden_units=[10,10],\n",
    "                                       feature_columns=feature_columns)\n",
    "dnn_reg.fit(x=X_train,y=y_train,batch_size=50,steps=5000)"
   ]
  },
  {
   "cell_type": "code",
   "execution_count": 66,
   "metadata": {},
   "outputs": [
    {
     "name": "stdout",
     "output_type": "stream",
     "text": [
      "WARNING:tensorflow:float64 is not supported by many models, consider casting to float32.\n",
      "WARNING:tensorflow:float64 is not supported by many models, consider casting to float32.\n",
      "INFO:tensorflow:Starting evaluation at 2017-12-07-10:14:00\n",
      "INFO:tensorflow:Restoring parameters from C:\\Users\\bjk1y13\\AppData\\Local\\Temp\\tmphy_vpl2t\\model.ckpt-1000\n",
      "INFO:tensorflow:Finished evaluation at 2017-12-07-10:14:01\n",
      "INFO:tensorflow:Saving dict for global step 1000: global_step = 1000, loss = 2993.06\n"
     ]
    },
    {
     "data": {
      "text/plain": [
       "{'global_step': 1000, 'loss': 2993.0623}"
      ]
     },
     "execution_count": 66,
     "metadata": {},
     "output_type": "execute_result"
    }
   ],
   "source": [
    "dnn_clf.evaluate(X_test,y_test)"
   ]
  },
  {
   "cell_type": "code",
   "execution_count": 68,
   "metadata": {},
   "outputs": [],
   "source": [
    "from sklearn.metrics import mean_squared_error"
   ]
  },
  {
   "cell_type": "code",
   "execution_count": 69,
   "metadata": {},
   "outputs": [
    {
     "name": "stdout",
     "output_type": "stream",
     "text": [
      "WARNING:tensorflow:float64 is not supported by many models, consider casting to float32.\n",
      "INFO:tensorflow:Restoring parameters from C:\\Users\\bjk1y13\\AppData\\Local\\Temp\\tmp2aga_fcv\\model.ckpt-5000\n"
     ]
    },
    {
     "data": {
      "text/plain": [
       "3033.6950690701424"
      ]
     },
     "execution_count": 69,
     "metadata": {},
     "output_type": "execute_result"
    }
   ],
   "source": [
    "y_pred = list(dnn_reg.predict(X_test))\n",
    "mean_squared_error(y_test,y_pred)"
   ]
  },
  {
   "cell_type": "code",
   "execution_count": null,
   "metadata": {},
   "outputs": [],
   "source": []
  },
  {
   "cell_type": "code",
   "execution_count": null,
   "metadata": {},
   "outputs": [],
   "source": []
  },
  {
   "cell_type": "markdown",
   "metadata": {},
   "source": [
    "# time series prediction"
   ]
  },
  {
   "cell_type": "markdown",
   "metadata": {},
   "source": [
    "create time series"
   ]
  },
  {
   "cell_type": "code",
   "execution_count": 74,
   "metadata": {},
   "outputs": [],
   "source": [
    "t = np.arange(0,30,0.1)"
   ]
  },
  {
   "cell_type": "code",
   "execution_count": 77,
   "metadata": {},
   "outputs": [],
   "source": [
    "y = np.sin(t)"
   ]
  },
  {
   "cell_type": "code",
   "execution_count": 78,
   "metadata": {},
   "outputs": [],
   "source": [
    "import matplotlib.pyplot as plt\n",
    "%matplotlib inline"
   ]
  },
  {
   "cell_type": "code",
   "execution_count": 82,
   "metadata": {},
   "outputs": [
    {
     "data": {
      "image/png": "[encoded data removed]",
      "text/plain": [
       "<matplotlib.figure.Figure at 0x25d1f017240>"
      ]
     },
     "metadata": {},
     "output_type": "display_data"
    }
   ],
   "source": [
    "fig = plt.figure(figsize=(12,4))\n",
    "fig.add_subplot(111)\n",
    "plt.plot(t,y);"
   ]
  },
  {
   "cell_type": "code",
   "execution_count": 86,
   "metadata": {},
   "outputs": [],
   "source": [
    "y2 = t*np.sin(t)/3 + 2*np.sin(5*t)"
   ]
  },
  {
   "cell_type": "code",
   "execution_count": 87,
   "metadata": {},
   "outputs": [
    {
     "data": {
      "image/png": "[encoded data removed]",
      "text/plain": [
       "<matplotlib.figure.Figure at 0x25d1eb31400>"
      ]
     },
     "metadata": {},
     "output_type": "display_data"
    }
   ],
   "source": [
    "fig = plt.figure(figsize=(12,4))\n",
    "fig.add_subplot(111)\n",
    "plt.plot(t,y2);"
   ]
  },
  {
   "cell_type": "code",
   "execution_count": null,
   "metadata": {},
   "outputs": [],
   "source": []
  }
 ],
 "metadata": {
  "kernelspec": {
   "display_name": "Python 3",
   "language": "python",
   "name": "python3"
  },
  "language_info": {
   "codemirror_mode": {
    "name": "ipython",
    "version": 3
   },
   "file_extension": ".py",
   "mimetype": "text/x-python",
   "name": "python",
   "nbconvert_exporter": "python",
   "pygments_lexer": "ipython3",
   "version": "3.6.3"
  }
 },
 "nbformat": 4,
 "nbformat_minor": 2
}
